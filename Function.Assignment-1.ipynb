{
 "cells": [
  {
   "cell_type": "code",
   "execution_count": 1,
   "id": "ff3b1a5a-48e2-46d5-90ba-acfdc7f21b4e",
   "metadata": {},
   "outputs": [
    {
     "name": "stdout",
     "output_type": "stream",
     "text": [
      "Sub-fields AI are:\n",
      "Machine Learning\n",
      "Neural Networks\n",
      "Vision\n",
      "Robotics\n",
      "Speech Processing\n",
      "Natural Language Processing\n"
     ]
    }
   ],
   "source": [
    "def subfields():\n",
    "    List = ['Machine Learning','Neural Networks','Vision','Robotics','Speech Processing','Natural Language Processing']\n",
    "    print(\"Sub-fields AI are:\")\n",
    "    print(List[0])\n",
    "    print(List[1])\n",
    "    print(List[2])\n",
    "    print(List[3])\n",
    "    print(List[4])\n",
    "    print(List[5])\n",
    "subfields()    "
   ]
  },
  {
   "cell_type": "code",
   "execution_count": 2,
   "id": "811700fd-b8bb-497d-8e92-4a27b8a72a5a",
   "metadata": {},
   "outputs": [
    {
     "name": "stdin",
     "output_type": "stream",
     "text": [
      "Enter a number :  52452\n"
     ]
    },
    {
     "name": "stdout",
     "output_type": "stream",
     "text": [
      "52452  is Even Number\n"
     ]
    }
   ],
   "source": [
    " num=int(input(\"Enter a number : \"))\n",
    "def find_Evenodd(num):\n",
    "    \n",
    "    if(num%2==0):\n",
    "        print(num,\" is Even Number\")\n",
    "    else:\n",
    "        print(num,\" is Odd Number\")\n",
    "\n",
    "find_Evenodd(num)\n"
   ]
  },
  {
   "cell_type": "code",
   "execution_count": 3,
   "id": "8750ac83-1f29-4fa3-ba30-193fb85addad",
   "metadata": {},
   "outputs": [
    {
     "name": "stdin",
     "output_type": "stream",
     "text": [
      "YOUR GENDER: male\n",
      "YOUR AGE: 20\n"
     ]
    },
    {
     "name": "stdout",
     "output_type": "stream",
     "text": [
      "NOT ELIGIBLE\n"
     ]
    }
   ],
   "source": [
    "def marriage_eligiblity():\n",
    "    gender = input('YOUR GENDER:')\n",
    "    age=int(input('YOUR AGE:'))\n",
    "    if(gender =='male' and age>=21):\n",
    "        print('person eligible for marriage')\n",
    "    elif(gender ==\"female \"and age>=18):\n",
    "        print('ELIGIBLE' )\n",
    "    else:\n",
    "        print('NOT ELIGIBLE')\n",
    "marriage_eligiblity()        "
   ]
  },
  {
   "cell_type": "code",
   "execution_count": 4,
   "id": "0b84e4c8-4886-45c1-bacb-2ae6237b321d",
   "metadata": {},
   "outputs": [
    {
     "name": "stdin",
     "output_type": "stream",
     "text": [
      "subject1= 98\n",
      "subject2= 87\n",
      "subject3= 95\n",
      "subject4= 95\n",
      "subject5= 93\n"
     ]
    },
    {
     "name": "stdout",
     "output_type": "stream",
     "text": [
      "\n",
      "Total:\t 468.0\n",
      "\n",
      "Percentage:\t 93.60000000000001\n"
     ]
    }
   ],
   "source": [
    "def average_of_subjects():\n",
    "    subject_1 = float (input ('subject1='))\n",
    "    subject_2 = float (input ('subject2='))\n",
    "    subject_3 = float (input ('subject3='))\n",
    "    subject_4 = float (input ('subject4='))\n",
    "    subject_5 = float (input ('subject5='))\n",
    "    total = subject_1 + subject_2 + subject_3 + subject_4 + subject_5\n",
    "    average = total/5\n",
    "    percentage= (total / 500) * 100\n",
    "    print (\"\\nTotal:\\t\", total)\n",
    "    print (\"\\nPercentage:\\t\", percentage)\n",
    "    \n",
    "average_of_subjects()        \n"
   ]
  },
  {
   "cell_type": "code",
   "execution_count": 6,
   "id": "f6755638-6701-4cc6-bd47-82d14719a9e1",
   "metadata": {},
   "outputs": [
    {
     "name": "stdin",
     "output_type": "stream",
     "text": [
      "Height= 32\n",
      "Breadth= 34\n"
     ]
    },
    {
     "name": "stdout",
     "output_type": "stream",
     "text": [
      "Area formula: (Height*Breadth)/2\n",
      "Triangle Area: 544.0\n"
     ]
    },
    {
     "name": "stdin",
     "output_type": "stream",
     "text": [
      "Height1= 2\n",
      "Height2= 4\n",
      "Breadth= 4\n"
     ]
    },
    {
     "name": "stdout",
     "output_type": "stream",
     "text": [
      "Perimeter formula: Height1 + Height2 + Breadth \n",
      "Triangle Perimeter: 10\n"
     ]
    }
   ],
   "source": [
    "def triangle_area(Height, Breadth):\n",
    "    return (Height * Breath)/2\n",
    "def triangle_perimeter(Height1, Height2,Breadth ):\n",
    "    return Height1 + Height2 + Breadth\n",
    "Height = int(input('Height='))\n",
    "Breadth = int(input('Breadth='))\n",
    "print('Area formula: (Height*Breadth)/2'  )\n",
    "print(\"Triangle Area:\", triangle_area(Height, Breadth))\n",
    "Height1 = int(input('Height1='))\n",
    "Height2 = int(input('Height2='))\n",
    "Breadth = int(input('Breadth='))\n",
    "print('Perimeter formula: Height1 + Height2 + Breadth ')\n",
    "print(\"Triangle Perimeter:\", triangle_perimeter(Height1, Height2,Breadth))"
   ]
  },
  {
   "cell_type": "code",
   "execution_count": null,
   "id": "cce26c6f-ac6a-4869-a86b-c203ccded50f",
   "metadata": {},
   "outputs": [],
   "source": []
  }
 ],
 "metadata": {
  "kernelspec": {
   "display_name": "Python 3 (ipykernel)",
   "language": "python",
   "name": "python3"
  },
  "language_info": {
   "codemirror_mode": {
    "name": "ipython",
    "version": 3
   },
   "file_extension": ".py",
   "mimetype": "text/x-python",
   "name": "python",
   "nbconvert_exporter": "python",
   "pygments_lexer": "ipython3",
   "version": "3.11.5"
  }
 },
 "nbformat": 4,
 "nbformat_minor": 5
}
