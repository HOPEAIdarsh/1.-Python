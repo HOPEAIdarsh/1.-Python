{
 "cells": [
  {
   "cell_type": "code",
   "execution_count": 4,
   "id": "5c07f85f-aea2-4e6c-b1d1-03562a3e46c3",
   "metadata": {},
   "outputs": [
    {
     "name": "stdout",
     "output_type": "stream",
     "text": [
      "Sub-fields AI are:\n",
      "Machine Learning\n",
      "Neural Networks\n",
      "Vision\n",
      "Robotics\n",
      "Speech Processing\n",
      "Natural Language Processing\n"
     ]
    }
   ],
   "source": [
    "\n",
    "class SubfieldsInAI():\n",
    "    def Subfields():\n",
    "    \n",
    "        List = ['Machine Learning','Neural Networks','Vision','Robotics','Speech Processing','Natural Language Processing']\n",
    "        print(\"Sub-fields AI are:\")\n",
    "        print(List[0])\n",
    "        print(List[1])\n",
    "        print(List[2])\n",
    "        print(List[3])\n",
    "        print(List[4])\n",
    "        print(List[5])\n",
    "SubfieldsInAI.Subfields()      "
   ]
  },
  {
   "cell_type": "code",
   "execution_count": 17,
   "id": "4673d3ca-f874-4274-9123-378a21da1089",
   "metadata": {},
   "outputs": [
    {
     "name": "stdin",
     "output_type": "stream",
     "text": [
      "Enter a number :  52452\n"
     ]
    },
    {
     "name": "stdout",
     "output_type": "stream",
     "text": [
      "52452  is Even Number\n"
     ]
    }
   ],
   "source": [
    " num=int(input(\"Enter a number : \"))\n",
    "class OddEven():\n",
    "    def OddEven(num):\n",
    "        \n",
    "        if(num%2==0):\n",
    "            print(num,\" is Even Number\")\n",
    "        else:\n",
    "            print(num,\" is Odd Number\")\n",
    "\n",
    "OddEven.OddEven(num)\n"
   ]
  },
  {
   "cell_type": "code",
   "execution_count": 18,
   "id": "db4265e4-74e7-4550-ab60-27fa2241a168",
   "metadata": {},
   "outputs": [
    {
     "name": "stdin",
     "output_type": "stream",
     "text": [
      "YOUR GENDER: male\n",
      "YOUR AGE: 20\n"
     ]
    },
    {
     "name": "stdout",
     "output_type": "stream",
     "text": [
      "NOT ELIGIBLE\n"
     ]
    }
   ],
   "source": [
    "class ElegiblityForMarriage():\n",
    "\n",
    "    def Elegible():\n",
    "        gender = input('YOUR GENDER:')\n",
    "        age=int(input('YOUR AGE:'))\n",
    "        if(gender =='male' and age>=21):\n",
    "            print('person eligible for marriage')\n",
    "        elif(gender ==\"female \"and age>=18):\n",
    "            print('ELIGIBLE' )\n",
    "        else:\n",
    "            print('NOT ELIGIBLE')\n",
    "ElegiblityForMarriage.Elegible()\n",
    "   "
   ]
  },
  {
   "cell_type": "code",
   "execution_count": 21,
   "id": "f89c04e2-8330-4dfe-929a-32fee616db8e",
   "metadata": {},
   "outputs": [
    {
     "name": "stdin",
     "output_type": "stream",
     "text": [
      "subject1= 98\n",
      "subject2= 87\n",
      "subject3= 95\n",
      "subject4= 95\n",
      "subject5= 93\n"
     ]
    },
    {
     "name": "stdout",
     "output_type": "stream",
     "text": [
      "\n",
      "Total:\t 468.0\n",
      "\n",
      "Percentage:\t 93.60000000000001\n"
     ]
    }
   ],
   "source": [
    "class FindPercent():\n",
    "    def percentage():\n",
    "        subject_1 = float (input ('subject1='))\n",
    "        subject_2 = float (input ('subject2='))\n",
    "        subject_3 = float (input ('subject3='))\n",
    "        subject_4 = float (input ('subject4='))\n",
    "        subject_5 = float (input ('subject5='))\n",
    "        total = subject_1 + subject_2 + subject_3 + subject_4 + subject_5\n",
    "        average = total/5\n",
    "        percentage= (total / 500) * 100\n",
    "        print (\"\\nTotal:\\t\", total)\n",
    "        print (\"\\nPercentage:\\t\", percentage)\n",
    "    \n",
    "FindPercent.percentage()\n",
    "       \n"
   ]
  },
  {
   "cell_type": "code",
   "execution_count": 36,
   "id": "b5e85fa0-9f35-4642-afff-496c32aae462",
   "metadata": {},
   "outputs": [
    {
     "name": "stdin",
     "output_type": "stream",
     "text": [
      "Height= 32\n",
      "Breadth= 34\n"
     ]
    },
    {
     "name": "stdout",
     "output_type": "stream",
     "text": [
      "Area formula: (Height*Breadth)/2\n",
      "Triangle Area: 544.0\n"
     ]
    },
    {
     "name": "stdin",
     "output_type": "stream",
     "text": [
      "Height1= 2\n",
      "Height2= 4\n",
      "Breadth= 4\n"
     ]
    },
    {
     "name": "stdout",
     "output_type": "stream",
     "text": [
      "Perimeter formula: Height1 + Height2 + Breadth \n",
      "Triangle Perimeter: 10\n"
     ]
    }
   ],
   "source": [
    "class triangle():\n",
    "    def triangle_area(Height, Breadth):\n",
    "        return (Height * Breadth)/2\n",
    "    def triangle_perimeter(Height1, Height2,Breadth ):\n",
    "        return Height1 + Height2 + Breadth\n",
    "    Height = int(input('Height='))\n",
    "    Breadth = int(input('Breadth='))\n",
    "    print('Area formula: (Height*Breadth)/2'  )\n",
    "    print(\"Triangle Area:\", triangle_area(Height, Breadth))\n",
    "    Height1 = int(input('Height1='))\n",
    "    Height2 = int(input('Height2='))\n",
    "    Breadth = int(input('Breadth='))\n",
    "    print('Perimeter formula: Height1 + Height2 + Breadth ')\n",
    "    print(\"Triangle Perimeter:\", triangle_perimeter(Height1, Height2,Breadth))\n"
   ]
  },
  {
   "cell_type": "code",
   "execution_count": null,
   "id": "02542589-3cd3-4e1a-ba0f-9fbae6c5141c",
   "metadata": {},
   "outputs": [],
   "source": []
  }
 ],
 "metadata": {
  "kernelspec": {
   "display_name": "Python 3 (ipykernel)",
   "language": "python",
   "name": "python3"
  },
  "language_info": {
   "codemirror_mode": {
    "name": "ipython",
    "version": 3
   },
   "file_extension": ".py",
   "mimetype": "text/x-python",
   "name": "python",
   "nbconvert_exporter": "python",
   "pygments_lexer": "ipython3",
   "version": "3.11.5"
  }
 },
 "nbformat": 4,
 "nbformat_minor": 5
}
