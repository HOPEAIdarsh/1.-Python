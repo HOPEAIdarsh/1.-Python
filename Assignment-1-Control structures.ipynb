{
 "cells": [
  {
   "cell_type": "code",
   "execution_count": 1,
   "id": "19a9efb6-6e06-4350-b2ae-8233cca63f8a",
   "metadata": {},
   "outputs": [
    {
     "name": "stdout",
     "output_type": "stream",
     "text": [
      "Welcome to Assignment-1\n"
     ]
    }
   ],
   "source": [
    "print('Welcome to Assignment-1')"
   ]
  },
  {
   "cell_type": "code",
   "execution_count": 8,
   "id": "045f1e93-a392-45e6-8410-994dc0da257e",
   "metadata": {},
   "outputs": [
    {
     "name": "stdout",
     "output_type": "stream",
     "text": [
      "Num1 = 10\n",
      "Num2= 30\n",
      "Add= 40\n"
     ]
    }
   ],
   "source": [
    "Num1=10\n",
    "print('Num1 =',Num1)\n",
    "Num2=30\n",
    "print('Num2=',Num2)\n",
    "Add=Num1+Num2\n",
    "print('Add=',Add)"
   ]
  },
  {
   "cell_type": "code",
   "execution_count": 29,
   "id": "3353406b-9470-4714-8767-357905de1700",
   "metadata": {},
   "outputs": [
    {
     "name": "stdin",
     "output_type": "stream",
     "text": [
      "Enter the BMI Index: 34\n"
     ]
    },
    {
     "name": "stdout",
     "output_type": "stream",
     "text": [
      "Very Overweight\n"
     ]
    }
   ],
   "source": [
    "BMI=int(input(\"Enter the BMI Index:\"))\n",
    "if(BMI>29.9):\n",
    "    print(\"Very Overweight\")\n",
    "else:\n",
    "    print(\"Over Weight\")"
   ]
  },
  {
   "cell_type": "code",
   "execution_count": 35,
   "id": "24cad9b6-c1ff-43c7-b178-52760f046b66",
   "metadata": {},
   "outputs": [
    {
     "name": "stdin",
     "output_type": "stream",
     "text": [
      "Enter the BMI Index: 28\n"
     ]
    },
    {
     "name": "stdout",
     "output_type": "stream",
     "text": [
      "Over Weight\n"
     ]
    }
   ],
   "source": [
    "BMI=int(input(\"Enter the BMI Index:\"))\n",
    "if(BMI>29.9):\n",
    "    print(\"Very Overweight\")\n",
    "else:\n",
    "    print(\"Over Weight\")"
   ]
  },
  {
   "cell_type": "code",
   "execution_count": null,
   "id": "b54d8223-b698-4b33-a974-2cef5690da7c",
   "metadata": {},
   "outputs": [],
   "source": []
  }
 ],
 "metadata": {
  "kernelspec": {
   "display_name": "Python 3 (ipykernel)",
   "language": "python",
   "name": "python3"
  },
  "language_info": {
   "codemirror_mode": {
    "name": "ipython",
    "version": 3
   },
   "file_extension": ".py",
   "mimetype": "text/x-python",
   "name": "python",
   "nbconvert_exporter": "python",
   "pygments_lexer": "ipython3",
   "version": "3.11.5"
  }
 },
 "nbformat": 4,
 "nbformat_minor": 5
}
